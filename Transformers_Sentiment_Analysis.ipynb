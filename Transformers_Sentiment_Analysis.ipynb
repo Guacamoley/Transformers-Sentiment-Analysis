{
  "nbformat": 4,
  "nbformat_minor": 0,
  "metadata": {
    "colab": {
      "provenance": []
    },
    "kernelspec": {
      "name": "python3",
      "display_name": "Python 3"
    },
    "language_info": {
      "name": "python"
    },
    "widgets": {
      "application/vnd.jupyter.widget-state+json": {
        "b1bca4d9b77741cca8cc213fb63ff6f7": {
          "model_module": "@jupyter-widgets/controls",
          "model_name": "HBoxModel",
          "model_module_version": "1.5.0",
          "state": {
            "_dom_classes": [],
            "_model_module": "@jupyter-widgets/controls",
            "_model_module_version": "1.5.0",
            "_model_name": "HBoxModel",
            "_view_count": null,
            "_view_module": "@jupyter-widgets/controls",
            "_view_module_version": "1.5.0",
            "_view_name": "HBoxView",
            "box_style": "",
            "children": [
              "IPY_MODEL_2781c9144ce74eb1a999f01d88673c8e",
              "IPY_MODEL_cfef8e0e6b864375b57a3d3b7642c47e",
              "IPY_MODEL_e146eeba2026492690d63874809dbecf"
            ],
            "layout": "IPY_MODEL_7539b4cb23634ebfbc49603fee2a08b0"
          }
        },
        "2781c9144ce74eb1a999f01d88673c8e": {
          "model_module": "@jupyter-widgets/controls",
          "model_name": "HTMLModel",
          "model_module_version": "1.5.0",
          "state": {
            "_dom_classes": [],
            "_model_module": "@jupyter-widgets/controls",
            "_model_module_version": "1.5.0",
            "_model_name": "HTMLModel",
            "_view_count": null,
            "_view_module": "@jupyter-widgets/controls",
            "_view_module_version": "1.5.0",
            "_view_name": "HTMLView",
            "description": "",
            "description_tooltip": null,
            "layout": "IPY_MODEL_2f0ca38dd3004ced8eaf41d785895671",
            "placeholder": "​",
            "style": "IPY_MODEL_ba9e0bea2fd34c46ade71f7a7b32d5a7",
            "value": "Downloading (…)solve/main/vocab.txt: 100%"
          }
        },
        "cfef8e0e6b864375b57a3d3b7642c47e": {
          "model_module": "@jupyter-widgets/controls",
          "model_name": "FloatProgressModel",
          "model_module_version": "1.5.0",
          "state": {
            "_dom_classes": [],
            "_model_module": "@jupyter-widgets/controls",
            "_model_module_version": "1.5.0",
            "_model_name": "FloatProgressModel",
            "_view_count": null,
            "_view_module": "@jupyter-widgets/controls",
            "_view_module_version": "1.5.0",
            "_view_name": "ProgressView",
            "bar_style": "success",
            "description": "",
            "description_tooltip": null,
            "layout": "IPY_MODEL_62041b500d54404591e5a3cd0a2444bb",
            "max": 231508,
            "min": 0,
            "orientation": "horizontal",
            "style": "IPY_MODEL_fbdc436856294862807f76922f36a3ae",
            "value": 231508
          }
        },
        "e146eeba2026492690d63874809dbecf": {
          "model_module": "@jupyter-widgets/controls",
          "model_name": "HTMLModel",
          "model_module_version": "1.5.0",
          "state": {
            "_dom_classes": [],
            "_model_module": "@jupyter-widgets/controls",
            "_model_module_version": "1.5.0",
            "_model_name": "HTMLModel",
            "_view_count": null,
            "_view_module": "@jupyter-widgets/controls",
            "_view_module_version": "1.5.0",
            "_view_name": "HTMLView",
            "description": "",
            "description_tooltip": null,
            "layout": "IPY_MODEL_f43886ee05014e639cacac01849b802a",
            "placeholder": "​",
            "style": "IPY_MODEL_1e2eeeee32b844b5b3dbb6565bb8c2c5",
            "value": " 232k/232k [00:00&lt;00:00, 3.45MB/s]"
          }
        },
        "7539b4cb23634ebfbc49603fee2a08b0": {
          "model_module": "@jupyter-widgets/base",
          "model_name": "LayoutModel",
          "model_module_version": "1.2.0",
          "state": {
            "_model_module": "@jupyter-widgets/base",
            "_model_module_version": "1.2.0",
            "_model_name": "LayoutModel",
            "_view_count": null,
            "_view_module": "@jupyter-widgets/base",
            "_view_module_version": "1.2.0",
            "_view_name": "LayoutView",
            "align_content": null,
            "align_items": null,
            "align_self": null,
            "border": null,
            "bottom": null,
            "display": null,
            "flex": null,
            "flex_flow": null,
            "grid_area": null,
            "grid_auto_columns": null,
            "grid_auto_flow": null,
            "grid_auto_rows": null,
            "grid_column": null,
            "grid_gap": null,
            "grid_row": null,
            "grid_template_areas": null,
            "grid_template_columns": null,
            "grid_template_rows": null,
            "height": null,
            "justify_content": null,
            "justify_items": null,
            "left": null,
            "margin": null,
            "max_height": null,
            "max_width": null,
            "min_height": null,
            "min_width": null,
            "object_fit": null,
            "object_position": null,
            "order": null,
            "overflow": null,
            "overflow_x": null,
            "overflow_y": null,
            "padding": null,
            "right": null,
            "top": null,
            "visibility": null,
            "width": null
          }
        },
        "2f0ca38dd3004ced8eaf41d785895671": {
          "model_module": "@jupyter-widgets/base",
          "model_name": "LayoutModel",
          "model_module_version": "1.2.0",
          "state": {
            "_model_module": "@jupyter-widgets/base",
            "_model_module_version": "1.2.0",
            "_model_name": "LayoutModel",
            "_view_count": null,
            "_view_module": "@jupyter-widgets/base",
            "_view_module_version": "1.2.0",
            "_view_name": "LayoutView",
            "align_content": null,
            "align_items": null,
            "align_self": null,
            "border": null,
            "bottom": null,
            "display": null,
            "flex": null,
            "flex_flow": null,
            "grid_area": null,
            "grid_auto_columns": null,
            "grid_auto_flow": null,
            "grid_auto_rows": null,
            "grid_column": null,
            "grid_gap": null,
            "grid_row": null,
            "grid_template_areas": null,
            "grid_template_columns": null,
            "grid_template_rows": null,
            "height": null,
            "justify_content": null,
            "justify_items": null,
            "left": null,
            "margin": null,
            "max_height": null,
            "max_width": null,
            "min_height": null,
            "min_width": null,
            "object_fit": null,
            "object_position": null,
            "order": null,
            "overflow": null,
            "overflow_x": null,
            "overflow_y": null,
            "padding": null,
            "right": null,
            "top": null,
            "visibility": null,
            "width": null
          }
        },
        "ba9e0bea2fd34c46ade71f7a7b32d5a7": {
          "model_module": "@jupyter-widgets/controls",
          "model_name": "DescriptionStyleModel",
          "model_module_version": "1.5.0",
          "state": {
            "_model_module": "@jupyter-widgets/controls",
            "_model_module_version": "1.5.0",
            "_model_name": "DescriptionStyleModel",
            "_view_count": null,
            "_view_module": "@jupyter-widgets/base",
            "_view_module_version": "1.2.0",
            "_view_name": "StyleView",
            "description_width": ""
          }
        },
        "62041b500d54404591e5a3cd0a2444bb": {
          "model_module": "@jupyter-widgets/base",
          "model_name": "LayoutModel",
          "model_module_version": "1.2.0",
          "state": {
            "_model_module": "@jupyter-widgets/base",
            "_model_module_version": "1.2.0",
            "_model_name": "LayoutModel",
            "_view_count": null,
            "_view_module": "@jupyter-widgets/base",
            "_view_module_version": "1.2.0",
            "_view_name": "LayoutView",
            "align_content": null,
            "align_items": null,
            "align_self": null,
            "border": null,
            "bottom": null,
            "display": null,
            "flex": null,
            "flex_flow": null,
            "grid_area": null,
            "grid_auto_columns": null,
            "grid_auto_flow": null,
            "grid_auto_rows": null,
            "grid_column": null,
            "grid_gap": null,
            "grid_row": null,
            "grid_template_areas": null,
            "grid_template_columns": null,
            "grid_template_rows": null,
            "height": null,
            "justify_content": null,
            "justify_items": null,
            "left": null,
            "margin": null,
            "max_height": null,
            "max_width": null,
            "min_height": null,
            "min_width": null,
            "object_fit": null,
            "object_position": null,
            "order": null,
            "overflow": null,
            "overflow_x": null,
            "overflow_y": null,
            "padding": null,
            "right": null,
            "top": null,
            "visibility": null,
            "width": null
          }
        },
        "fbdc436856294862807f76922f36a3ae": {
          "model_module": "@jupyter-widgets/controls",
          "model_name": "ProgressStyleModel",
          "model_module_version": "1.5.0",
          "state": {
            "_model_module": "@jupyter-widgets/controls",
            "_model_module_version": "1.5.0",
            "_model_name": "ProgressStyleModel",
            "_view_count": null,
            "_view_module": "@jupyter-widgets/base",
            "_view_module_version": "1.2.0",
            "_view_name": "StyleView",
            "bar_color": null,
            "description_width": ""
          }
        },
        "f43886ee05014e639cacac01849b802a": {
          "model_module": "@jupyter-widgets/base",
          "model_name": "LayoutModel",
          "model_module_version": "1.2.0",
          "state": {
            "_model_module": "@jupyter-widgets/base",
            "_model_module_version": "1.2.0",
            "_model_name": "LayoutModel",
            "_view_count": null,
            "_view_module": "@jupyter-widgets/base",
            "_view_module_version": "1.2.0",
            "_view_name": "LayoutView",
            "align_content": null,
            "align_items": null,
            "align_self": null,
            "border": null,
            "bottom": null,
            "display": null,
            "flex": null,
            "flex_flow": null,
            "grid_area": null,
            "grid_auto_columns": null,
            "grid_auto_flow": null,
            "grid_auto_rows": null,
            "grid_column": null,
            "grid_gap": null,
            "grid_row": null,
            "grid_template_areas": null,
            "grid_template_columns": null,
            "grid_template_rows": null,
            "height": null,
            "justify_content": null,
            "justify_items": null,
            "left": null,
            "margin": null,
            "max_height": null,
            "max_width": null,
            "min_height": null,
            "min_width": null,
            "object_fit": null,
            "object_position": null,
            "order": null,
            "overflow": null,
            "overflow_x": null,
            "overflow_y": null,
            "padding": null,
            "right": null,
            "top": null,
            "visibility": null,
            "width": null
          }
        },
        "1e2eeeee32b844b5b3dbb6565bb8c2c5": {
          "model_module": "@jupyter-widgets/controls",
          "model_name": "DescriptionStyleModel",
          "model_module_version": "1.5.0",
          "state": {
            "_model_module": "@jupyter-widgets/controls",
            "_model_module_version": "1.5.0",
            "_model_name": "DescriptionStyleModel",
            "_view_count": null,
            "_view_module": "@jupyter-widgets/base",
            "_view_module_version": "1.2.0",
            "_view_name": "StyleView",
            "description_width": ""
          }
        },
        "43f4cd313b5b494782b4b72c9e776abe": {
          "model_module": "@jupyter-widgets/controls",
          "model_name": "HBoxModel",
          "model_module_version": "1.5.0",
          "state": {
            "_dom_classes": [],
            "_model_module": "@jupyter-widgets/controls",
            "_model_module_version": "1.5.0",
            "_model_name": "HBoxModel",
            "_view_count": null,
            "_view_module": "@jupyter-widgets/controls",
            "_view_module_version": "1.5.0",
            "_view_name": "HBoxView",
            "box_style": "",
            "children": [
              "IPY_MODEL_32ed4dd15cd84d7d8ff188056cfb3fec",
              "IPY_MODEL_89d31c28d73d474898075bcb0a135007",
              "IPY_MODEL_f877a989151f4d5c8e59b5555572f2bc"
            ],
            "layout": "IPY_MODEL_df62faedcff940f5bce6df392dfe1477"
          }
        },
        "32ed4dd15cd84d7d8ff188056cfb3fec": {
          "model_module": "@jupyter-widgets/controls",
          "model_name": "HTMLModel",
          "model_module_version": "1.5.0",
          "state": {
            "_dom_classes": [],
            "_model_module": "@jupyter-widgets/controls",
            "_model_module_version": "1.5.0",
            "_model_name": "HTMLModel",
            "_view_count": null,
            "_view_module": "@jupyter-widgets/controls",
            "_view_module_version": "1.5.0",
            "_view_name": "HTMLView",
            "description": "",
            "description_tooltip": null,
            "layout": "IPY_MODEL_e717c528a8fc4da6b939440d99c29d2c",
            "placeholder": "​",
            "style": "IPY_MODEL_346b9d2f84ca47d9a80d52563d7df294",
            "value": "Downloading (…)okenizer_config.json: 100%"
          }
        },
        "89d31c28d73d474898075bcb0a135007": {
          "model_module": "@jupyter-widgets/controls",
          "model_name": "FloatProgressModel",
          "model_module_version": "1.5.0",
          "state": {
            "_dom_classes": [],
            "_model_module": "@jupyter-widgets/controls",
            "_model_module_version": "1.5.0",
            "_model_name": "FloatProgressModel",
            "_view_count": null,
            "_view_module": "@jupyter-widgets/controls",
            "_view_module_version": "1.5.0",
            "_view_name": "ProgressView",
            "bar_style": "success",
            "description": "",
            "description_tooltip": null,
            "layout": "IPY_MODEL_14f897c1f6654bdd96e75882e2a7f4a4",
            "max": 28,
            "min": 0,
            "orientation": "horizontal",
            "style": "IPY_MODEL_35e22fc1a65d4e11844addb1606d53a7",
            "value": 28
          }
        },
        "f877a989151f4d5c8e59b5555572f2bc": {
          "model_module": "@jupyter-widgets/controls",
          "model_name": "HTMLModel",
          "model_module_version": "1.5.0",
          "state": {
            "_dom_classes": [],
            "_model_module": "@jupyter-widgets/controls",
            "_model_module_version": "1.5.0",
            "_model_name": "HTMLModel",
            "_view_count": null,
            "_view_module": "@jupyter-widgets/controls",
            "_view_module_version": "1.5.0",
            "_view_name": "HTMLView",
            "description": "",
            "description_tooltip": null,
            "layout": "IPY_MODEL_c9d5455dab5f4c1d8619d24b17513202",
            "placeholder": "​",
            "style": "IPY_MODEL_631e994817a340198378ce702acc22ef",
            "value": " 28.0/28.0 [00:00&lt;00:00, 978B/s]"
          }
        },
        "df62faedcff940f5bce6df392dfe1477": {
          "model_module": "@jupyter-widgets/base",
          "model_name": "LayoutModel",
          "model_module_version": "1.2.0",
          "state": {
            "_model_module": "@jupyter-widgets/base",
            "_model_module_version": "1.2.0",
            "_model_name": "LayoutModel",
            "_view_count": null,
            "_view_module": "@jupyter-widgets/base",
            "_view_module_version": "1.2.0",
            "_view_name": "LayoutView",
            "align_content": null,
            "align_items": null,
            "align_self": null,
            "border": null,
            "bottom": null,
            "display": null,
            "flex": null,
            "flex_flow": null,
            "grid_area": null,
            "grid_auto_columns": null,
            "grid_auto_flow": null,
            "grid_auto_rows": null,
            "grid_column": null,
            "grid_gap": null,
            "grid_row": null,
            "grid_template_areas": null,
            "grid_template_columns": null,
            "grid_template_rows": null,
            "height": null,
            "justify_content": null,
            "justify_items": null,
            "left": null,
            "margin": null,
            "max_height": null,
            "max_width": null,
            "min_height": null,
            "min_width": null,
            "object_fit": null,
            "object_position": null,
            "order": null,
            "overflow": null,
            "overflow_x": null,
            "overflow_y": null,
            "padding": null,
            "right": null,
            "top": null,
            "visibility": null,
            "width": null
          }
        },
        "e717c528a8fc4da6b939440d99c29d2c": {
          "model_module": "@jupyter-widgets/base",
          "model_name": "LayoutModel",
          "model_module_version": "1.2.0",
          "state": {
            "_model_module": "@jupyter-widgets/base",
            "_model_module_version": "1.2.0",
            "_model_name": "LayoutModel",
            "_view_count": null,
            "_view_module": "@jupyter-widgets/base",
            "_view_module_version": "1.2.0",
            "_view_name": "LayoutView",
            "align_content": null,
            "align_items": null,
            "align_self": null,
            "border": null,
            "bottom": null,
            "display": null,
            "flex": null,
            "flex_flow": null,
            "grid_area": null,
            "grid_auto_columns": null,
            "grid_auto_flow": null,
            "grid_auto_rows": null,
            "grid_column": null,
            "grid_gap": null,
            "grid_row": null,
            "grid_template_areas": null,
            "grid_template_columns": null,
            "grid_template_rows": null,
            "height": null,
            "justify_content": null,
            "justify_items": null,
            "left": null,
            "margin": null,
            "max_height": null,
            "max_width": null,
            "min_height": null,
            "min_width": null,
            "object_fit": null,
            "object_position": null,
            "order": null,
            "overflow": null,
            "overflow_x": null,
            "overflow_y": null,
            "padding": null,
            "right": null,
            "top": null,
            "visibility": null,
            "width": null
          }
        },
        "346b9d2f84ca47d9a80d52563d7df294": {
          "model_module": "@jupyter-widgets/controls",
          "model_name": "DescriptionStyleModel",
          "model_module_version": "1.5.0",
          "state": {
            "_model_module": "@jupyter-widgets/controls",
            "_model_module_version": "1.5.0",
            "_model_name": "DescriptionStyleModel",
            "_view_count": null,
            "_view_module": "@jupyter-widgets/base",
            "_view_module_version": "1.2.0",
            "_view_name": "StyleView",
            "description_width": ""
          }
        },
        "14f897c1f6654bdd96e75882e2a7f4a4": {
          "model_module": "@jupyter-widgets/base",
          "model_name": "LayoutModel",
          "model_module_version": "1.2.0",
          "state": {
            "_model_module": "@jupyter-widgets/base",
            "_model_module_version": "1.2.0",
            "_model_name": "LayoutModel",
            "_view_count": null,
            "_view_module": "@jupyter-widgets/base",
            "_view_module_version": "1.2.0",
            "_view_name": "LayoutView",
            "align_content": null,
            "align_items": null,
            "align_self": null,
            "border": null,
            "bottom": null,
            "display": null,
            "flex": null,
            "flex_flow": null,
            "grid_area": null,
            "grid_auto_columns": null,
            "grid_auto_flow": null,
            "grid_auto_rows": null,
            "grid_column": null,
            "grid_gap": null,
            "grid_row": null,
            "grid_template_areas": null,
            "grid_template_columns": null,
            "grid_template_rows": null,
            "height": null,
            "justify_content": null,
            "justify_items": null,
            "left": null,
            "margin": null,
            "max_height": null,
            "max_width": null,
            "min_height": null,
            "min_width": null,
            "object_fit": null,
            "object_position": null,
            "order": null,
            "overflow": null,
            "overflow_x": null,
            "overflow_y": null,
            "padding": null,
            "right": null,
            "top": null,
            "visibility": null,
            "width": null
          }
        },
        "35e22fc1a65d4e11844addb1606d53a7": {
          "model_module": "@jupyter-widgets/controls",
          "model_name": "ProgressStyleModel",
          "model_module_version": "1.5.0",
          "state": {
            "_model_module": "@jupyter-widgets/controls",
            "_model_module_version": "1.5.0",
            "_model_name": "ProgressStyleModel",
            "_view_count": null,
            "_view_module": "@jupyter-widgets/base",
            "_view_module_version": "1.2.0",
            "_view_name": "StyleView",
            "bar_color": null,
            "description_width": ""
          }
        },
        "c9d5455dab5f4c1d8619d24b17513202": {
          "model_module": "@jupyter-widgets/base",
          "model_name": "LayoutModel",
          "model_module_version": "1.2.0",
          "state": {
            "_model_module": "@jupyter-widgets/base",
            "_model_module_version": "1.2.0",
            "_model_name": "LayoutModel",
            "_view_count": null,
            "_view_module": "@jupyter-widgets/base",
            "_view_module_version": "1.2.0",
            "_view_name": "LayoutView",
            "align_content": null,
            "align_items": null,
            "align_self": null,
            "border": null,
            "bottom": null,
            "display": null,
            "flex": null,
            "flex_flow": null,
            "grid_area": null,
            "grid_auto_columns": null,
            "grid_auto_flow": null,
            "grid_auto_rows": null,
            "grid_column": null,
            "grid_gap": null,
            "grid_row": null,
            "grid_template_areas": null,
            "grid_template_columns": null,
            "grid_template_rows": null,
            "height": null,
            "justify_content": null,
            "justify_items": null,
            "left": null,
            "margin": null,
            "max_height": null,
            "max_width": null,
            "min_height": null,
            "min_width": null,
            "object_fit": null,
            "object_position": null,
            "order": null,
            "overflow": null,
            "overflow_x": null,
            "overflow_y": null,
            "padding": null,
            "right": null,
            "top": null,
            "visibility": null,
            "width": null
          }
        },
        "631e994817a340198378ce702acc22ef": {
          "model_module": "@jupyter-widgets/controls",
          "model_name": "DescriptionStyleModel",
          "model_module_version": "1.5.0",
          "state": {
            "_model_module": "@jupyter-widgets/controls",
            "_model_module_version": "1.5.0",
            "_model_name": "DescriptionStyleModel",
            "_view_count": null,
            "_view_module": "@jupyter-widgets/base",
            "_view_module_version": "1.2.0",
            "_view_name": "StyleView",
            "description_width": ""
          }
        },
        "ff5e60183cdd41b98afcba47f985d31b": {
          "model_module": "@jupyter-widgets/controls",
          "model_name": "HBoxModel",
          "model_module_version": "1.5.0",
          "state": {
            "_dom_classes": [],
            "_model_module": "@jupyter-widgets/controls",
            "_model_module_version": "1.5.0",
            "_model_name": "HBoxModel",
            "_view_count": null,
            "_view_module": "@jupyter-widgets/controls",
            "_view_module_version": "1.5.0",
            "_view_name": "HBoxView",
            "box_style": "",
            "children": [
              "IPY_MODEL_9333ef4ec83c414a882e337f683882b4",
              "IPY_MODEL_99a9bd1da1c740b086213050100887ae",
              "IPY_MODEL_a0cee1137cd94bb7a6ee8d69cd94cf7f"
            ],
            "layout": "IPY_MODEL_e5380bb571f34ee484dec71490494d00"
          }
        },
        "9333ef4ec83c414a882e337f683882b4": {
          "model_module": "@jupyter-widgets/controls",
          "model_name": "HTMLModel",
          "model_module_version": "1.5.0",
          "state": {
            "_dom_classes": [],
            "_model_module": "@jupyter-widgets/controls",
            "_model_module_version": "1.5.0",
            "_model_name": "HTMLModel",
            "_view_count": null,
            "_view_module": "@jupyter-widgets/controls",
            "_view_module_version": "1.5.0",
            "_view_name": "HTMLView",
            "description": "",
            "description_tooltip": null,
            "layout": "IPY_MODEL_b14b2c066cb845569bfd3b8a0ae74b58",
            "placeholder": "​",
            "style": "IPY_MODEL_7ffc1ef54bc94db29b709123a6040991",
            "value": "Downloading (…)lve/main/config.json: 100%"
          }
        },
        "99a9bd1da1c740b086213050100887ae": {
          "model_module": "@jupyter-widgets/controls",
          "model_name": "FloatProgressModel",
          "model_module_version": "1.5.0",
          "state": {
            "_dom_classes": [],
            "_model_module": "@jupyter-widgets/controls",
            "_model_module_version": "1.5.0",
            "_model_name": "FloatProgressModel",
            "_view_count": null,
            "_view_module": "@jupyter-widgets/controls",
            "_view_module_version": "1.5.0",
            "_view_name": "ProgressView",
            "bar_style": "success",
            "description": "",
            "description_tooltip": null,
            "layout": "IPY_MODEL_70c2cd0a8c2646df9f3b060faf9f9ad1",
            "max": 570,
            "min": 0,
            "orientation": "horizontal",
            "style": "IPY_MODEL_f0ad0caa34844541bc89e3d3a5ecd1ee",
            "value": 570
          }
        },
        "a0cee1137cd94bb7a6ee8d69cd94cf7f": {
          "model_module": "@jupyter-widgets/controls",
          "model_name": "HTMLModel",
          "model_module_version": "1.5.0",
          "state": {
            "_dom_classes": [],
            "_model_module": "@jupyter-widgets/controls",
            "_model_module_version": "1.5.0",
            "_model_name": "HTMLModel",
            "_view_count": null,
            "_view_module": "@jupyter-widgets/controls",
            "_view_module_version": "1.5.0",
            "_view_name": "HTMLView",
            "description": "",
            "description_tooltip": null,
            "layout": "IPY_MODEL_ed1ac9f8de6d43ce82d2f94d82374c24",
            "placeholder": "​",
            "style": "IPY_MODEL_09321891a8434f178125530232b3110c",
            "value": " 570/570 [00:00&lt;00:00, 20.6kB/s]"
          }
        },
        "e5380bb571f34ee484dec71490494d00": {
          "model_module": "@jupyter-widgets/base",
          "model_name": "LayoutModel",
          "model_module_version": "1.2.0",
          "state": {
            "_model_module": "@jupyter-widgets/base",
            "_model_module_version": "1.2.0",
            "_model_name": "LayoutModel",
            "_view_count": null,
            "_view_module": "@jupyter-widgets/base",
            "_view_module_version": "1.2.0",
            "_view_name": "LayoutView",
            "align_content": null,
            "align_items": null,
            "align_self": null,
            "border": null,
            "bottom": null,
            "display": null,
            "flex": null,
            "flex_flow": null,
            "grid_area": null,
            "grid_auto_columns": null,
            "grid_auto_flow": null,
            "grid_auto_rows": null,
            "grid_column": null,
            "grid_gap": null,
            "grid_row": null,
            "grid_template_areas": null,
            "grid_template_columns": null,
            "grid_template_rows": null,
            "height": null,
            "justify_content": null,
            "justify_items": null,
            "left": null,
            "margin": null,
            "max_height": null,
            "max_width": null,
            "min_height": null,
            "min_width": null,
            "object_fit": null,
            "object_position": null,
            "order": null,
            "overflow": null,
            "overflow_x": null,
            "overflow_y": null,
            "padding": null,
            "right": null,
            "top": null,
            "visibility": null,
            "width": null
          }
        },
        "b14b2c066cb845569bfd3b8a0ae74b58": {
          "model_module": "@jupyter-widgets/base",
          "model_name": "LayoutModel",
          "model_module_version": "1.2.0",
          "state": {
            "_model_module": "@jupyter-widgets/base",
            "_model_module_version": "1.2.0",
            "_model_name": "LayoutModel",
            "_view_count": null,
            "_view_module": "@jupyter-widgets/base",
            "_view_module_version": "1.2.0",
            "_view_name": "LayoutView",
            "align_content": null,
            "align_items": null,
            "align_self": null,
            "border": null,
            "bottom": null,
            "display": null,
            "flex": null,
            "flex_flow": null,
            "grid_area": null,
            "grid_auto_columns": null,
            "grid_auto_flow": null,
            "grid_auto_rows": null,
            "grid_column": null,
            "grid_gap": null,
            "grid_row": null,
            "grid_template_areas": null,
            "grid_template_columns": null,
            "grid_template_rows": null,
            "height": null,
            "justify_content": null,
            "justify_items": null,
            "left": null,
            "margin": null,
            "max_height": null,
            "max_width": null,
            "min_height": null,
            "min_width": null,
            "object_fit": null,
            "object_position": null,
            "order": null,
            "overflow": null,
            "overflow_x": null,
            "overflow_y": null,
            "padding": null,
            "right": null,
            "top": null,
            "visibility": null,
            "width": null
          }
        },
        "7ffc1ef54bc94db29b709123a6040991": {
          "model_module": "@jupyter-widgets/controls",
          "model_name": "DescriptionStyleModel",
          "model_module_version": "1.5.0",
          "state": {
            "_model_module": "@jupyter-widgets/controls",
            "_model_module_version": "1.5.0",
            "_model_name": "DescriptionStyleModel",
            "_view_count": null,
            "_view_module": "@jupyter-widgets/base",
            "_view_module_version": "1.2.0",
            "_view_name": "StyleView",
            "description_width": ""
          }
        },
        "70c2cd0a8c2646df9f3b060faf9f9ad1": {
          "model_module": "@jupyter-widgets/base",
          "model_name": "LayoutModel",
          "model_module_version": "1.2.0",
          "state": {
            "_model_module": "@jupyter-widgets/base",
            "_model_module_version": "1.2.0",
            "_model_name": "LayoutModel",
            "_view_count": null,
            "_view_module": "@jupyter-widgets/base",
            "_view_module_version": "1.2.0",
            "_view_name": "LayoutView",
            "align_content": null,
            "align_items": null,
            "align_self": null,
            "border": null,
            "bottom": null,
            "display": null,
            "flex": null,
            "flex_flow": null,
            "grid_area": null,
            "grid_auto_columns": null,
            "grid_auto_flow": null,
            "grid_auto_rows": null,
            "grid_column": null,
            "grid_gap": null,
            "grid_row": null,
            "grid_template_areas": null,
            "grid_template_columns": null,
            "grid_template_rows": null,
            "height": null,
            "justify_content": null,
            "justify_items": null,
            "left": null,
            "margin": null,
            "max_height": null,
            "max_width": null,
            "min_height": null,
            "min_width": null,
            "object_fit": null,
            "object_position": null,
            "order": null,
            "overflow": null,
            "overflow_x": null,
            "overflow_y": null,
            "padding": null,
            "right": null,
            "top": null,
            "visibility": null,
            "width": null
          }
        },
        "f0ad0caa34844541bc89e3d3a5ecd1ee": {
          "model_module": "@jupyter-widgets/controls",
          "model_name": "ProgressStyleModel",
          "model_module_version": "1.5.0",
          "state": {
            "_model_module": "@jupyter-widgets/controls",
            "_model_module_version": "1.5.0",
            "_model_name": "ProgressStyleModel",
            "_view_count": null,
            "_view_module": "@jupyter-widgets/base",
            "_view_module_version": "1.2.0",
            "_view_name": "StyleView",
            "bar_color": null,
            "description_width": ""
          }
        },
        "ed1ac9f8de6d43ce82d2f94d82374c24": {
          "model_module": "@jupyter-widgets/base",
          "model_name": "LayoutModel",
          "model_module_version": "1.2.0",
          "state": {
            "_model_module": "@jupyter-widgets/base",
            "_model_module_version": "1.2.0",
            "_model_name": "LayoutModel",
            "_view_count": null,
            "_view_module": "@jupyter-widgets/base",
            "_view_module_version": "1.2.0",
            "_view_name": "LayoutView",
            "align_content": null,
            "align_items": null,
            "align_self": null,
            "border": null,
            "bottom": null,
            "display": null,
            "flex": null,
            "flex_flow": null,
            "grid_area": null,
            "grid_auto_columns": null,
            "grid_auto_flow": null,
            "grid_auto_rows": null,
            "grid_column": null,
            "grid_gap": null,
            "grid_row": null,
            "grid_template_areas": null,
            "grid_template_columns": null,
            "grid_template_rows": null,
            "height": null,
            "justify_content": null,
            "justify_items": null,
            "left": null,
            "margin": null,
            "max_height": null,
            "max_width": null,
            "min_height": null,
            "min_width": null,
            "object_fit": null,
            "object_position": null,
            "order": null,
            "overflow": null,
            "overflow_x": null,
            "overflow_y": null,
            "padding": null,
            "right": null,
            "top": null,
            "visibility": null,
            "width": null
          }
        },
        "09321891a8434f178125530232b3110c": {
          "model_module": "@jupyter-widgets/controls",
          "model_name": "DescriptionStyleModel",
          "model_module_version": "1.5.0",
          "state": {
            "_model_module": "@jupyter-widgets/controls",
            "_model_module_version": "1.5.0",
            "_model_name": "DescriptionStyleModel",
            "_view_count": null,
            "_view_module": "@jupyter-widgets/base",
            "_view_module_version": "1.2.0",
            "_view_name": "StyleView",
            "description_width": ""
          }
        }
      }
    }
  },
  "cells": [
    {
      "cell_type": "markdown",
      "source": [
        "# Michael Ha\n",
        "\n"
      ],
      "metadata": {
        "id": "__yqmxFdewCf"
      }
    },
    {
      "cell_type": "markdown",
      "source": [
        "# Conduct package imports\n"
      ],
      "metadata": {
        "id": "veWMmlF9PVGS"
      }
    },
    {
      "cell_type": "code",
      "execution_count": null,
      "metadata": {
        "id": "kOT5m_BpPS0W"
      },
      "outputs": [],
      "source": [
        "import json\n",
        "\n",
        "import matplotlib.pyplot as plt\n",
        "import numpy as np\n",
        "import pandas as pd\n",
        "import seaborn as sns\n",
        "import torch\n",
        "from sklearn.metrics import classification_report, confusion_matrix\n",
        "from sklearn.model_selection import train_test_split\n",
        "from torch.optim import Adam\n",
        "from torch.utils.data import DataLoader, TensorDataset, RandomSampler, SequentialSampler\n",
        "!pip install transformers\n",
        "from transformers import BertTokenizer, BertForSequenceClassification"
      ]
    },
    {
      "cell_type": "markdown",
      "source": [
        "# Check for CUDA availability"
      ],
      "metadata": {
        "id": "9R7g9d-ibFeD"
      }
    },
    {
      "cell_type": "code",
      "source": [
        "print(\"CUDA available:\", torch.cuda.is_available())\n",
        "print(\"Number of GPUs:\", torch.cuda.device_count())"
      ],
      "metadata": {
        "colab": {
          "base_uri": "https://localhost:8080/"
        },
        "id": "e6AG0hesbD6H",
        "outputId": "4f3f0a7e-70af-4650-cca8-ba0a2c9b211a"
      },
      "execution_count": null,
      "outputs": [
        {
          "output_type": "stream",
          "name": "stdout",
          "text": [
            "CUDA available: False\n",
            "Number of GPUs: 0\n"
          ]
        }
      ]
    },
    {
      "cell_type": "markdown",
      "source": [
        "# Read the file"
      ],
      "metadata": {
        "id": "KniKoPVJPi4N"
      }
    },
    {
      "cell_type": "code",
      "source": [
        "df = pd.read_csv('Reviews.csv')"
      ],
      "metadata": {
        "id": "i3r-2LCnP0r_"
      },
      "execution_count": null,
      "outputs": []
    },
    {
      "cell_type": "markdown",
      "source": [
        "# Set the dataframe size to 50%\n"
      ],
      "metadata": {
        "id": "0TWD84qVPoRD"
      }
    },
    {
      "cell_type": "code",
      "source": [
        "df = df.sample(frac=0.5, replace=True).reset_index(drop=True)"
      ],
      "metadata": {
        "id": "2ZIbosJvPfNk"
      },
      "execution_count": null,
      "outputs": []
    },
    {
      "cell_type": "markdown",
      "source": [
        "# Drop null values and print out statistics\n"
      ],
      "metadata": {
        "id": "Hc0yiPxduVtl"
      }
    },
    {
      "cell_type": "code",
      "source": [
        "df.dropna(inplace=True)\n",
        "display(df.head())\n",
        "display(df.tail())\n",
        "print(f\"\\nPrint out shape:\\n{df.shape}\")"
      ],
      "metadata": {
        "colab": {
          "base_uri": "https://localhost:8080/",
          "height": 616
        },
        "id": "EUdgdBjmuX4p",
        "outputId": "7eb62353-f49f-475f-cb08-c19fed74c7b1"
      },
      "execution_count": null,
      "outputs": [
        {
          "output_type": "display_data",
          "data": {
            "text/plain": [
              "       Id   ProductId          UserId              ProfileName  \\\n",
              "0   65502  B001EQ55ZO  A3A6GXILVT9JNW          Jeanne Tassotto   \n",
              "1   71965  B001E5DX4A  A1UMYRV98EFZ4V               sharrybaby   \n",
              "2  311576  B001OCG0Z2  A300CRVAZDOR18  Mary E. Ruby \"MyMiguel\"   \n",
              "3   96279  B004HOLD4W   ALQMNKE806LR6             casahome2000   \n",
              "4  446932  B007HP6IDE  A3O8F9Z3DDLXJT                 S. Burch   \n",
              "\n",
              "   HelpfulnessNumerator  HelpfulnessDenominator  Score        Time  \\\n",
              "0                     5                       6      2  1214265600   \n",
              "1                     0                       0      5  1279756800   \n",
              "2                     0                       0      5  1263081600   \n",
              "3                     0                       0      4  1347321600   \n",
              "4                     0                       0      4  1347926400   \n",
              "\n",
              "                     Summary  \\\n",
              "0      Not for cashew lovers   \n",
              "1             very satisfied   \n",
              "2                  FANTASTIC   \n",
              "3  Not as hot as you'd think   \n",
              "4       Great Tasting Matcha   \n",
              "\n",
              "                                                Text  \n",
              "0  When I first opened the canister the smell of ...  \n",
              "1  Item arrived faster than anticipated, which is...  \n",
              "2  I CAN'T GET ENOUGH OF THIS DRINK AND IT DOES R...  \n",
              "3  Blue Diamond almonds are a huge favorite and I...  \n",
              "4  I am the very definition of a beginning matcha...  "
            ],
            "text/html": [
              "\n",
              "  <div id=\"df-4ffdb388-daf1-49fc-93b2-5ad8bb1fb140\">\n",
              "    <div class=\"colab-df-container\">\n",
              "      <div>\n",
              "<style scoped>\n",
              "    .dataframe tbody tr th:only-of-type {\n",
              "        vertical-align: middle;\n",
              "    }\n",
              "\n",
              "    .dataframe tbody tr th {\n",
              "        vertical-align: top;\n",
              "    }\n",
              "\n",
              "    .dataframe thead th {\n",
              "        text-align: right;\n",
              "    }\n",
              "</style>\n",
              "<table border=\"1\" class=\"dataframe\">\n",
              "  <thead>\n",
              "    <tr style=\"text-align: right;\">\n",
              "      <th></th>\n",
              "      <th>Id</th>\n",
              "      <th>ProductId</th>\n",
              "      <th>UserId</th>\n",
              "      <th>ProfileName</th>\n",
              "      <th>HelpfulnessNumerator</th>\n",
              "      <th>HelpfulnessDenominator</th>\n",
              "      <th>Score</th>\n",
              "      <th>Time</th>\n",
              "      <th>Summary</th>\n",
              "      <th>Text</th>\n",
              "    </tr>\n",
              "  </thead>\n",
              "  <tbody>\n",
              "    <tr>\n",
              "      <th>0</th>\n",
              "      <td>65502</td>\n",
              "      <td>B001EQ55ZO</td>\n",
              "      <td>A3A6GXILVT9JNW</td>\n",
              "      <td>Jeanne Tassotto</td>\n",
              "      <td>5</td>\n",
              "      <td>6</td>\n",
              "      <td>2</td>\n",
              "      <td>1214265600</td>\n",
              "      <td>Not for cashew lovers</td>\n",
              "      <td>When I first opened the canister the smell of ...</td>\n",
              "    </tr>\n",
              "    <tr>\n",
              "      <th>1</th>\n",
              "      <td>71965</td>\n",
              "      <td>B001E5DX4A</td>\n",
              "      <td>A1UMYRV98EFZ4V</td>\n",
              "      <td>sharrybaby</td>\n",
              "      <td>0</td>\n",
              "      <td>0</td>\n",
              "      <td>5</td>\n",
              "      <td>1279756800</td>\n",
              "      <td>very satisfied</td>\n",
              "      <td>Item arrived faster than anticipated, which is...</td>\n",
              "    </tr>\n",
              "    <tr>\n",
              "      <th>2</th>\n",
              "      <td>311576</td>\n",
              "      <td>B001OCG0Z2</td>\n",
              "      <td>A300CRVAZDOR18</td>\n",
              "      <td>Mary E. Ruby \"MyMiguel\"</td>\n",
              "      <td>0</td>\n",
              "      <td>0</td>\n",
              "      <td>5</td>\n",
              "      <td>1263081600</td>\n",
              "      <td>FANTASTIC</td>\n",
              "      <td>I CAN'T GET ENOUGH OF THIS DRINK AND IT DOES R...</td>\n",
              "    </tr>\n",
              "    <tr>\n",
              "      <th>3</th>\n",
              "      <td>96279</td>\n",
              "      <td>B004HOLD4W</td>\n",
              "      <td>ALQMNKE806LR6</td>\n",
              "      <td>casahome2000</td>\n",
              "      <td>0</td>\n",
              "      <td>0</td>\n",
              "      <td>4</td>\n",
              "      <td>1347321600</td>\n",
              "      <td>Not as hot as you'd think</td>\n",
              "      <td>Blue Diamond almonds are a huge favorite and I...</td>\n",
              "    </tr>\n",
              "    <tr>\n",
              "      <th>4</th>\n",
              "      <td>446932</td>\n",
              "      <td>B007HP6IDE</td>\n",
              "      <td>A3O8F9Z3DDLXJT</td>\n",
              "      <td>S. Burch</td>\n",
              "      <td>0</td>\n",
              "      <td>0</td>\n",
              "      <td>4</td>\n",
              "      <td>1347926400</td>\n",
              "      <td>Great Tasting Matcha</td>\n",
              "      <td>I am the very definition of a beginning matcha...</td>\n",
              "    </tr>\n",
              "  </tbody>\n",
              "</table>\n",
              "</div>\n",
              "      <button class=\"colab-df-convert\" onclick=\"convertToInteractive('df-4ffdb388-daf1-49fc-93b2-5ad8bb1fb140')\"\n",
              "              title=\"Convert this dataframe to an interactive table.\"\n",
              "              style=\"display:none;\">\n",
              "        \n",
              "  <svg xmlns=\"http://www.w3.org/2000/svg\" height=\"24px\"viewBox=\"0 0 24 24\"\n",
              "       width=\"24px\">\n",
              "    <path d=\"M0 0h24v24H0V0z\" fill=\"none\"/>\n",
              "    <path d=\"M18.56 5.44l.94 2.06.94-2.06 2.06-.94-2.06-.94-.94-2.06-.94 2.06-2.06.94zm-11 1L8.5 8.5l.94-2.06 2.06-.94-2.06-.94L8.5 2.5l-.94 2.06-2.06.94zm10 10l.94 2.06.94-2.06 2.06-.94-2.06-.94-.94-2.06-.94 2.06-2.06.94z\"/><path d=\"M17.41 7.96l-1.37-1.37c-.4-.4-.92-.59-1.43-.59-.52 0-1.04.2-1.43.59L10.3 9.45l-7.72 7.72c-.78.78-.78 2.05 0 2.83L4 21.41c.39.39.9.59 1.41.59.51 0 1.02-.2 1.41-.59l7.78-7.78 2.81-2.81c.8-.78.8-2.07 0-2.86zM5.41 20L4 18.59l7.72-7.72 1.47 1.35L5.41 20z\"/>\n",
              "  </svg>\n",
              "      </button>\n",
              "      \n",
              "  <style>\n",
              "    .colab-df-container {\n",
              "      display:flex;\n",
              "      flex-wrap:wrap;\n",
              "      gap: 12px;\n",
              "    }\n",
              "\n",
              "    .colab-df-convert {\n",
              "      background-color: #E8F0FE;\n",
              "      border: none;\n",
              "      border-radius: 50%;\n",
              "      cursor: pointer;\n",
              "      display: none;\n",
              "      fill: #1967D2;\n",
              "      height: 32px;\n",
              "      padding: 0 0 0 0;\n",
              "      width: 32px;\n",
              "    }\n",
              "\n",
              "    .colab-df-convert:hover {\n",
              "      background-color: #E2EBFA;\n",
              "      box-shadow: 0px 1px 2px rgba(60, 64, 67, 0.3), 0px 1px 3px 1px rgba(60, 64, 67, 0.15);\n",
              "      fill: #174EA6;\n",
              "    }\n",
              "\n",
              "    [theme=dark] .colab-df-convert {\n",
              "      background-color: #3B4455;\n",
              "      fill: #D2E3FC;\n",
              "    }\n",
              "\n",
              "    [theme=dark] .colab-df-convert:hover {\n",
              "      background-color: #434B5C;\n",
              "      box-shadow: 0px 1px 3px 1px rgba(0, 0, 0, 0.15);\n",
              "      filter: drop-shadow(0px 1px 2px rgba(0, 0, 0, 0.3));\n",
              "      fill: #FFFFFF;\n",
              "    }\n",
              "  </style>\n",
              "\n",
              "      <script>\n",
              "        const buttonEl =\n",
              "          document.querySelector('#df-4ffdb388-daf1-49fc-93b2-5ad8bb1fb140 button.colab-df-convert');\n",
              "        buttonEl.style.display =\n",
              "          google.colab.kernel.accessAllowed ? 'block' : 'none';\n",
              "\n",
              "        async function convertToInteractive(key) {\n",
              "          const element = document.querySelector('#df-4ffdb388-daf1-49fc-93b2-5ad8bb1fb140');\n",
              "          const dataTable =\n",
              "            await google.colab.kernel.invokeFunction('convertToInteractive',\n",
              "                                                     [key], {});\n",
              "          if (!dataTable) return;\n",
              "\n",
              "          const docLinkHtml = 'Like what you see? Visit the ' +\n",
              "            '<a target=\"_blank\" href=https://colab.research.google.com/notebooks/data_table.ipynb>data table notebook</a>'\n",
              "            + ' to learn more about interactive tables.';\n",
              "          element.innerHTML = '';\n",
              "          dataTable['output_type'] = 'display_data';\n",
              "          await google.colab.output.renderOutput(dataTable, element);\n",
              "          const docLink = document.createElement('div');\n",
              "          docLink.innerHTML = docLinkHtml;\n",
              "          element.appendChild(docLink);\n",
              "        }\n",
              "      </script>\n",
              "    </div>\n",
              "  </div>\n",
              "  "
            ]
          },
          "metadata": {}
        },
        {
          "output_type": "display_data",
          "data": {
            "text/plain": [
              "            Id   ProductId          UserId          ProfileName  \\\n",
              "284222   45377  B0083PHD2M  A2CDVLXZHN6ZDH  Encourage Education   \n",
              "284223  375357  B0027YZBJC  A3HIB8R59RNYNV  Cyborg \"RoadRunner\"   \n",
              "284224  318300  B002UWACVI  A10TRDLZ8ET887   Rachel R. Horstman   \n",
              "284225  520895  B0009XSXZM  A3QA0BBQW08DLZ           Mc \"m0c21\"   \n",
              "284226  382470  B004779XSM  A1KHVW4VTZ82XC                  JMP   \n",
              "\n",
              "        HelpfulnessNumerator  HelpfulnessDenominator  Score        Time  \\\n",
              "284222                     1                       1      5  1350777600   \n",
              "284223                     4                       5      5  1318118400   \n",
              "284224                     0                       0      5  1340668800   \n",
              "284225                     0                       0      3  1334793600   \n",
              "284226                     0                       0      5  1318550400   \n",
              "\n",
              "                                       Summary  \\\n",
              "284222            Bring Back Subscribe & Save!   \n",
              "284223  Not all pitted dates are made the same   \n",
              "284224                         Sweet and Salty   \n",
              "284225            Not as good as it used to be   \n",
              "284226                Strong flavor/great iced   \n",
              "\n",
              "                                                     Text  \n",
              "284222  My husband and I fell in love with these Orgai...  \n",
              "284223  I ordered one bag and the bag of figs from the...  \n",
              "284224  I love bacon and chocolate. This is the perfec...  \n",
              "284225  My dog used to love these and would chew throu...  \n",
              "284226  Like others have said the price on here is hig...  "
            ],
            "text/html": [
              "\n",
              "  <div id=\"df-1fe4e1f9-4f19-463c-aab2-ffacd2962384\">\n",
              "    <div class=\"colab-df-container\">\n",
              "      <div>\n",
              "<style scoped>\n",
              "    .dataframe tbody tr th:only-of-type {\n",
              "        vertical-align: middle;\n",
              "    }\n",
              "\n",
              "    .dataframe tbody tr th {\n",
              "        vertical-align: top;\n",
              "    }\n",
              "\n",
              "    .dataframe thead th {\n",
              "        text-align: right;\n",
              "    }\n",
              "</style>\n",
              "<table border=\"1\" class=\"dataframe\">\n",
              "  <thead>\n",
              "    <tr style=\"text-align: right;\">\n",
              "      <th></th>\n",
              "      <th>Id</th>\n",
              "      <th>ProductId</th>\n",
              "      <th>UserId</th>\n",
              "      <th>ProfileName</th>\n",
              "      <th>HelpfulnessNumerator</th>\n",
              "      <th>HelpfulnessDenominator</th>\n",
              "      <th>Score</th>\n",
              "      <th>Time</th>\n",
              "      <th>Summary</th>\n",
              "      <th>Text</th>\n",
              "    </tr>\n",
              "  </thead>\n",
              "  <tbody>\n",
              "    <tr>\n",
              "      <th>284222</th>\n",
              "      <td>45377</td>\n",
              "      <td>B0083PHD2M</td>\n",
              "      <td>A2CDVLXZHN6ZDH</td>\n",
              "      <td>Encourage Education</td>\n",
              "      <td>1</td>\n",
              "      <td>1</td>\n",
              "      <td>5</td>\n",
              "      <td>1350777600</td>\n",
              "      <td>Bring Back Subscribe &amp; Save!</td>\n",
              "      <td>My husband and I fell in love with these Orgai...</td>\n",
              "    </tr>\n",
              "    <tr>\n",
              "      <th>284223</th>\n",
              "      <td>375357</td>\n",
              "      <td>B0027YZBJC</td>\n",
              "      <td>A3HIB8R59RNYNV</td>\n",
              "      <td>Cyborg \"RoadRunner\"</td>\n",
              "      <td>4</td>\n",
              "      <td>5</td>\n",
              "      <td>5</td>\n",
              "      <td>1318118400</td>\n",
              "      <td>Not all pitted dates are made the same</td>\n",
              "      <td>I ordered one bag and the bag of figs from the...</td>\n",
              "    </tr>\n",
              "    <tr>\n",
              "      <th>284224</th>\n",
              "      <td>318300</td>\n",
              "      <td>B002UWACVI</td>\n",
              "      <td>A10TRDLZ8ET887</td>\n",
              "      <td>Rachel R. Horstman</td>\n",
              "      <td>0</td>\n",
              "      <td>0</td>\n",
              "      <td>5</td>\n",
              "      <td>1340668800</td>\n",
              "      <td>Sweet and Salty</td>\n",
              "      <td>I love bacon and chocolate. This is the perfec...</td>\n",
              "    </tr>\n",
              "    <tr>\n",
              "      <th>284225</th>\n",
              "      <td>520895</td>\n",
              "      <td>B0009XSXZM</td>\n",
              "      <td>A3QA0BBQW08DLZ</td>\n",
              "      <td>Mc \"m0c21\"</td>\n",
              "      <td>0</td>\n",
              "      <td>0</td>\n",
              "      <td>3</td>\n",
              "      <td>1334793600</td>\n",
              "      <td>Not as good as it used to be</td>\n",
              "      <td>My dog used to love these and would chew throu...</td>\n",
              "    </tr>\n",
              "    <tr>\n",
              "      <th>284226</th>\n",
              "      <td>382470</td>\n",
              "      <td>B004779XSM</td>\n",
              "      <td>A1KHVW4VTZ82XC</td>\n",
              "      <td>JMP</td>\n",
              "      <td>0</td>\n",
              "      <td>0</td>\n",
              "      <td>5</td>\n",
              "      <td>1318550400</td>\n",
              "      <td>Strong flavor/great iced</td>\n",
              "      <td>Like others have said the price on here is hig...</td>\n",
              "    </tr>\n",
              "  </tbody>\n",
              "</table>\n",
              "</div>\n",
              "      <button class=\"colab-df-convert\" onclick=\"convertToInteractive('df-1fe4e1f9-4f19-463c-aab2-ffacd2962384')\"\n",
              "              title=\"Convert this dataframe to an interactive table.\"\n",
              "              style=\"display:none;\">\n",
              "        \n",
              "  <svg xmlns=\"http://www.w3.org/2000/svg\" height=\"24px\"viewBox=\"0 0 24 24\"\n",
              "       width=\"24px\">\n",
              "    <path d=\"M0 0h24v24H0V0z\" fill=\"none\"/>\n",
              "    <path d=\"M18.56 5.44l.94 2.06.94-2.06 2.06-.94-2.06-.94-.94-2.06-.94 2.06-2.06.94zm-11 1L8.5 8.5l.94-2.06 2.06-.94-2.06-.94L8.5 2.5l-.94 2.06-2.06.94zm10 10l.94 2.06.94-2.06 2.06-.94-2.06-.94-.94-2.06-.94 2.06-2.06.94z\"/><path d=\"M17.41 7.96l-1.37-1.37c-.4-.4-.92-.59-1.43-.59-.52 0-1.04.2-1.43.59L10.3 9.45l-7.72 7.72c-.78.78-.78 2.05 0 2.83L4 21.41c.39.39.9.59 1.41.59.51 0 1.02-.2 1.41-.59l7.78-7.78 2.81-2.81c.8-.78.8-2.07 0-2.86zM5.41 20L4 18.59l7.72-7.72 1.47 1.35L5.41 20z\"/>\n",
              "  </svg>\n",
              "      </button>\n",
              "      \n",
              "  <style>\n",
              "    .colab-df-container {\n",
              "      display:flex;\n",
              "      flex-wrap:wrap;\n",
              "      gap: 12px;\n",
              "    }\n",
              "\n",
              "    .colab-df-convert {\n",
              "      background-color: #E8F0FE;\n",
              "      border: none;\n",
              "      border-radius: 50%;\n",
              "      cursor: pointer;\n",
              "      display: none;\n",
              "      fill: #1967D2;\n",
              "      height: 32px;\n",
              "      padding: 0 0 0 0;\n",
              "      width: 32px;\n",
              "    }\n",
              "\n",
              "    .colab-df-convert:hover {\n",
              "      background-color: #E2EBFA;\n",
              "      box-shadow: 0px 1px 2px rgba(60, 64, 67, 0.3), 0px 1px 3px 1px rgba(60, 64, 67, 0.15);\n",
              "      fill: #174EA6;\n",
              "    }\n",
              "\n",
              "    [theme=dark] .colab-df-convert {\n",
              "      background-color: #3B4455;\n",
              "      fill: #D2E3FC;\n",
              "    }\n",
              "\n",
              "    [theme=dark] .colab-df-convert:hover {\n",
              "      background-color: #434B5C;\n",
              "      box-shadow: 0px 1px 3px 1px rgba(0, 0, 0, 0.15);\n",
              "      filter: drop-shadow(0px 1px 2px rgba(0, 0, 0, 0.3));\n",
              "      fill: #FFFFFF;\n",
              "    }\n",
              "  </style>\n",
              "\n",
              "      <script>\n",
              "        const buttonEl =\n",
              "          document.querySelector('#df-1fe4e1f9-4f19-463c-aab2-ffacd2962384 button.colab-df-convert');\n",
              "        buttonEl.style.display =\n",
              "          google.colab.kernel.accessAllowed ? 'block' : 'none';\n",
              "\n",
              "        async function convertToInteractive(key) {\n",
              "          const element = document.querySelector('#df-1fe4e1f9-4f19-463c-aab2-ffacd2962384');\n",
              "          const dataTable =\n",
              "            await google.colab.kernel.invokeFunction('convertToInteractive',\n",
              "                                                     [key], {});\n",
              "          if (!dataTable) return;\n",
              "\n",
              "          const docLinkHtml = 'Like what you see? Visit the ' +\n",
              "            '<a target=\"_blank\" href=https://colab.research.google.com/notebooks/data_table.ipynb>data table notebook</a>'\n",
              "            + ' to learn more about interactive tables.';\n",
              "          element.innerHTML = '';\n",
              "          dataTable['output_type'] = 'display_data';\n",
              "          await google.colab.output.renderOutput(dataTable, element);\n",
              "          const docLink = document.createElement('div');\n",
              "          docLink.innerHTML = docLinkHtml;\n",
              "          element.appendChild(docLink);\n",
              "        }\n",
              "      </script>\n",
              "    </div>\n",
              "  </div>\n",
              "  "
            ]
          },
          "metadata": {}
        },
        {
          "output_type": "stream",
          "name": "stdout",
          "text": [
            "\n",
            "Print out shape:\n",
            "(284208, 10)\n"
          ]
        }
      ]
    },
    {
      "cell_type": "markdown",
      "source": [
        "# Print rating distribution and graph"
      ],
      "metadata": {
        "id": "UiP-TWlhudNJ"
      }
    },
    {
      "cell_type": "code",
      "source": [
        "rating_distribution = df['Score'].value_counts() / len(df) * 100\n",
        "print(rating_distribution)\n",
        "\n",
        "rating_distribution.plot.bar()\n",
        "plt.show()\n",
        "\n",
        "df = pd.DataFrame(df, columns=['Score', 'Text'])\n",
        "df.rename(columns={'Score': 'Rating', 'Text': 'Review'}, inplace=True)"
      ],
      "metadata": {
        "colab": {
          "base_uri": "https://localhost:8080/",
          "height": 535
        },
        "id": "1OFtGMZ7ua5i",
        "outputId": "e72665f8-c4d4-4a79-b522-bfd341ecbc8f"
      },
      "execution_count": null,
      "outputs": [
        {
          "output_type": "stream",
          "name": "stdout",
          "text": [
            "5    63.938735\n",
            "4    14.164274\n",
            "1     9.153507\n",
            "3     7.537086\n",
            "2     5.206398\n",
            "Name: Score, dtype: float64\n"
          ]
        },
        {
          "output_type": "display_data",
          "data": {
            "text/plain": [
              "<Figure size 640x480 with 1 Axes>"
            ],
            "image/png": "[encoded data removed]"
          },
          "metadata": {}
        }
      ]
    },
    {
      "cell_type": "markdown",
      "source": [
        "# Apply sentiment mapping\n"
      ],
      "metadata": {
        "id": "FG6CLNynuj3S"
      }
    },
    {
      "cell_type": "code",
      "source": [
        "def apply_sentiment(rating):\n",
        "    if rating <= 2:\n",
        "        return 0\n",
        "    elif rating == 3:\n",
        "        return 1\n",
        "    else:\n",
        "        return 2\n",
        "\n",
        "\n",
        "df['Sentiment'] = df['Rating'].apply(apply_sentiment)\n",
        "df.drop(['Rating'], axis=1, inplace=True)\n",
        "\n",
        "sentiment = df['Sentiment'].value_counts()\n",
        "print(sentiment)\n",
        "display(df.head())"
      ],
      "metadata": {
        "colab": {
          "base_uri": "https://localhost:8080/",
          "height": 280
        },
        "id": "t-WByxPruoKR",
        "outputId": "0f9923ff-5de7-406a-adee-1a22ef2cf8ae"
      },
      "execution_count": null,
      "outputs": [
        {
          "output_type": "stream",
          "name": "stdout",
          "text": [
            "2    221975\n",
            "0     40812\n",
            "1     21421\n",
            "Name: Sentiment, dtype: int64\n"
          ]
        },
        {
          "output_type": "display_data",
          "data": {
            "text/plain": [
              "                                              Review  Sentiment\n",
              "0  When I first opened the canister the smell of ...          0\n",
              "1  Item arrived faster than anticipated, which is...          2\n",
              "2  I CAN'T GET ENOUGH OF THIS DRINK AND IT DOES R...          2\n",
              "3  Blue Diamond almonds are a huge favorite and I...          2\n",
              "4  I am the very definition of a beginning matcha...          2"
            ],
            "text/html": [
              "\n",
              "  <div id=\"df-e7325599-81ae-43a6-b0d9-c5d896ba2607\">\n",
              "    <div class=\"colab-df-container\">\n",
              "      <div>\n",
              "<style scoped>\n",
              "    .dataframe tbody tr th:only-of-type {\n",
              "        vertical-align: middle;\n",
              "    }\n",
              "\n",
              "    .dataframe tbody tr th {\n",
              "        vertical-align: top;\n",
              "    }\n",
              "\n",
              "    .dataframe thead th {\n",
              "        text-align: right;\n",
              "    }\n",
              "</style>\n",
              "<table border=\"1\" class=\"dataframe\">\n",
              "  <thead>\n",
              "    <tr style=\"text-align: right;\">\n",
              "      <th></th>\n",
              "      <th>Review</th>\n",
              "      <th>Sentiment</th>\n",
              "    </tr>\n",
              "  </thead>\n",
              "  <tbody>\n",
              "    <tr>\n",
              "      <th>0</th>\n",
              "      <td>When I first opened the canister the smell of ...</td>\n",
              "      <td>0</td>\n",
              "    </tr>\n",
              "    <tr>\n",
              "      <th>1</th>\n",
              "      <td>Item arrived faster than anticipated, which is...</td>\n",
              "      <td>2</td>\n",
              "    </tr>\n",
              "    <tr>\n",
              "      <th>2</th>\n",
              "      <td>I CAN'T GET ENOUGH OF THIS DRINK AND IT DOES R...</td>\n",
              "      <td>2</td>\n",
              "    </tr>\n",
              "    <tr>\n",
              "      <th>3</th>\n",
              "      <td>Blue Diamond almonds are a huge favorite and I...</td>\n",
              "      <td>2</td>\n",
              "    </tr>\n",
              "    <tr>\n",
              "      <th>4</th>\n",
              "      <td>I am the very definition of a beginning matcha...</td>\n",
              "      <td>2</td>\n",
              "    </tr>\n",
              "  </tbody>\n",
              "</table>\n",
              "</div>\n",
              "      <button class=\"colab-df-convert\" onclick=\"convertToInteractive('df-e7325599-81ae-43a6-b0d9-c5d896ba2607')\"\n",
              "              title=\"Convert this dataframe to an interactive table.\"\n",
              "              style=\"display:none;\">\n",
              "        \n",
              "  <svg xmlns=\"http://www.w3.org/2000/svg\" height=\"24px\"viewBox=\"0 0 24 24\"\n",
              "       width=\"24px\">\n",
              "    <path d=\"M0 0h24v24H0V0z\" fill=\"none\"/>\n",
              "    <path d=\"M18.56 5.44l.94 2.06.94-2.06 2.06-.94-2.06-.94-.94-2.06-.94 2.06-2.06.94zm-11 1L8.5 8.5l.94-2.06 2.06-.94-2.06-.94L8.5 2.5l-.94 2.06-2.06.94zm10 10l.94 2.06.94-2.06 2.06-.94-2.06-.94-.94-2.06-.94 2.06-2.06.94z\"/><path d=\"M17.41 7.96l-1.37-1.37c-.4-.4-.92-.59-1.43-.59-.52 0-1.04.2-1.43.59L10.3 9.45l-7.72 7.72c-.78.78-.78 2.05 0 2.83L4 21.41c.39.39.9.59 1.41.59.51 0 1.02-.2 1.41-.59l7.78-7.78 2.81-2.81c.8-.78.8-2.07 0-2.86zM5.41 20L4 18.59l7.72-7.72 1.47 1.35L5.41 20z\"/>\n",
              "  </svg>\n",
              "      </button>\n",
              "      \n",
              "  <style>\n",
              "    .colab-df-container {\n",
              "      display:flex;\n",
              "      flex-wrap:wrap;\n",
              "      gap: 12px;\n",
              "    }\n",
              "\n",
              "    .colab-df-convert {\n",
              "      background-color: #E8F0FE;\n",
              "      border: none;\n",
              "      border-radius: 50%;\n",
              "      cursor: pointer;\n",
              "      display: none;\n",
              "      fill: #1967D2;\n",
              "      height: 32px;\n",
              "      padding: 0 0 0 0;\n",
              "      width: 32px;\n",
              "    }\n",
              "\n",
              "    .colab-df-convert:hover {\n",
              "      background-color: #E2EBFA;\n",
              "      box-shadow: 0px 1px 2px rgba(60, 64, 67, 0.3), 0px 1px 3px 1px rgba(60, 64, 67, 0.15);\n",
              "      fill: #174EA6;\n",
              "    }\n",
              "\n",
              "    [theme=dark] .colab-df-convert {\n",
              "      background-color: #3B4455;\n",
              "      fill: #D2E3FC;\n",
              "    }\n",
              "\n",
              "    [theme=dark] .colab-df-convert:hover {\n",
              "      background-color: #434B5C;\n",
              "      box-shadow: 0px 1px 3px 1px rgba(0, 0, 0, 0.15);\n",
              "      filter: drop-shadow(0px 1px 2px rgba(0, 0, 0, 0.3));\n",
              "      fill: #FFFFFF;\n",
              "    }\n",
              "  </style>\n",
              "\n",
              "      <script>\n",
              "        const buttonEl =\n",
              "          document.querySelector('#df-e7325599-81ae-43a6-b0d9-c5d896ba2607 button.colab-df-convert');\n",
              "        buttonEl.style.display =\n",
              "          google.colab.kernel.accessAllowed ? 'block' : 'none';\n",
              "\n",
              "        async function convertToInteractive(key) {\n",
              "          const element = document.querySelector('#df-e7325599-81ae-43a6-b0d9-c5d896ba2607');\n",
              "          const dataTable =\n",
              "            await google.colab.kernel.invokeFunction('convertToInteractive',\n",
              "                                                     [key], {});\n",
              "          if (!dataTable) return;\n",
              "\n",
              "          const docLinkHtml = 'Like what you see? Visit the ' +\n",
              "            '<a target=\"_blank\" href=https://colab.research.google.com/notebooks/data_table.ipynb>data table notebook</a>'\n",
              "            + ' to learn more about interactive tables.';\n",
              "          element.innerHTML = '';\n",
              "          dataTable['output_type'] = 'display_data';\n",
              "          await google.colab.output.renderOutput(dataTable, element);\n",
              "          const docLink = document.createElement('div');\n",
              "          docLink.innerHTML = docLinkHtml;\n",
              "          element.appendChild(docLink);\n",
              "        }\n",
              "      </script>\n",
              "    </div>\n",
              "  </div>\n",
              "  "
            ]
          },
          "metadata": {}
        }
      ]
    },
    {
      "cell_type": "markdown",
      "source": [
        "# Tokenize the reviews and truncate/pad to a maximum length\n"
      ],
      "metadata": {
        "id": "w0S8uxQnuqds"
      }
    },
    {
      "cell_type": "code",
      "source": [
        "tokenizer = BertTokenizer.from_pretrained('bert-base-uncased')\n",
        "max_length = 128\n",
        "\n",
        "tokenized_reviews = [\n",
        "    tokenizer.encode(review, add_special_tokens=True, max_length=max_length, padding='max_length', truncation=True) for\n",
        "    review in df['Review']]\n",
        "\n",
        "# Convert the tokenized reviews to PyTorch tensors\n",
        "input_ids = torch.tensor(tokenized_reviews)\n",
        "\n",
        "# Print the first 10 tokenized reviews\n",
        "print(input_ids[:10])"
      ],
      "metadata": {
        "colab": {
          "base_uri": "https://localhost:8080/",
          "height": 242,
          "referenced_widgets": [
            "b1bca4d9b77741cca8cc213fb63ff6f7",
            "2781c9144ce74eb1a999f01d88673c8e",
            "cfef8e0e6b864375b57a3d3b7642c47e",
            "e146eeba2026492690d63874809dbecf",
            "7539b4cb23634ebfbc49603fee2a08b0",
            "2f0ca38dd3004ced8eaf41d785895671",
            "ba9e0bea2fd34c46ade71f7a7b32d5a7",
            "62041b500d54404591e5a3cd0a2444bb",
            "fbdc436856294862807f76922f36a3ae",
            "f43886ee05014e639cacac01849b802a",
            "1e2eeeee32b844b5b3dbb6565bb8c2c5",
            "43f4cd313b5b494782b4b72c9e776abe",
            "32ed4dd15cd84d7d8ff188056cfb3fec",
            "89d31c28d73d474898075bcb0a135007",
            "f877a989151f4d5c8e59b5555572f2bc",
            "df62faedcff940f5bce6df392dfe1477",
            "e717c528a8fc4da6b939440d99c29d2c",
            "346b9d2f84ca47d9a80d52563d7df294",
            "14f897c1f6654bdd96e75882e2a7f4a4",
            "35e22fc1a65d4e11844addb1606d53a7",
            "c9d5455dab5f4c1d8619d24b17513202",
            "631e994817a340198378ce702acc22ef",
            "ff5e60183cdd41b98afcba47f985d31b",
            "9333ef4ec83c414a882e337f683882b4",
            "99a9bd1da1c740b086213050100887ae",
            "a0cee1137cd94bb7a6ee8d69cd94cf7f",
            "e5380bb571f34ee484dec71490494d00",
            "b14b2c066cb845569bfd3b8a0ae74b58",
            "7ffc1ef54bc94db29b709123a6040991",
            "70c2cd0a8c2646df9f3b060faf9f9ad1",
            "f0ad0caa34844541bc89e3d3a5ecd1ee",
            "ed1ac9f8de6d43ce82d2f94d82374c24",
            "09321891a8434f178125530232b3110c"
          ]
        },
        "id": "qcF4GnoKusf-",
        "outputId": "59d83c31-7e13-4277-f4b7-7fd8861c1dc1"
      },
      "execution_count": null,
      "outputs": [
        {
          "output_type": "display_data",
          "data": {
            "text/plain": [
              "Downloading (…)solve/main/vocab.txt:   0%|          | 0.00/232k [00:00<?, ?B/s]"
            ],
            "application/vnd.jupyter.widget-view+json": {
              "version_major": 2,
              "version_minor": 0,
              "model_id": "b1bca4d9b77741cca8cc213fb63ff6f7"
            }
          },
          "metadata": {}
        },
        {
          "output_type": "display_data",
          "data": {
            "text/plain": [
              "Downloading (…)okenizer_config.json:   0%|          | 0.00/28.0 [00:00<?, ?B/s]"
            ],
            "application/vnd.jupyter.widget-view+json": {
              "version_major": 2,
              "version_minor": 0,
              "model_id": "43f4cd313b5b494782b4b72c9e776abe"
            }
          },
          "metadata": {}
        },
        {
          "output_type": "display_data",
          "data": {
            "text/plain": [
              "Downloading (…)lve/main/config.json:   0%|          | 0.00/570 [00:00<?, ?B/s]"
            ],
            "application/vnd.jupyter.widget-view+json": {
              "version_major": 2,
              "version_minor": 0,
              "model_id": "ff5e60183cdd41b98afcba47f985d31b"
            }
          },
          "metadata": {}
        },
        {
          "output_type": "stream",
          "name": "stdout",
          "text": [
            "tensor([[  101,  2043,  1045,  ...,  2023,  4031,   102],\n",
            "        [  101,  8875,  3369,  ...,     0,     0,     0],\n",
            "        [  101,  1045,  2064,  ...,     0,     0,     0],\n",
            "        ...,\n",
            "        [  101,  2026,  3899,  ...,     0,     0,     0],\n",
            "        [  101,  6919,  4157,  ...,     0,     0,     0],\n",
            "        [  101, 10166,  1010,  ...,     0,     0,     0]])\n"
          ]
        }
      ]
    },
    {
      "cell_type": "markdown",
      "source": [
        "Print and decode token IDS for review"
      ],
      "metadata": {
        "id": "Ad2ESOfLuzZd"
      }
    },
    {
      "cell_type": "code",
      "source": [
        "# Decode the token IDs of the first review\n",
        "decoded_review = tokenizer.decode(input_ids[0])\n",
        "\n",
        "# Print the original review and the decoded review\n",
        "print('Original Review:', df['Review'][0])\n",
        "print('Decoded Review:', decoded_review)"
      ],
      "metadata": {
        "colab": {
          "base_uri": "https://localhost:8080/"
        },
        "id": "gc646DgHu2eG",
        "outputId": "13baf6c0-5e0f-42f1-ef4f-a319d1999f4f"
      },
      "execution_count": null,
      "outputs": [
        {
          "output_type": "stream",
          "name": "stdout",
          "text": [
            "Original Review: When I first opened the canister the smell of pepper was burst forth.  At the first taste, first the salt and then the pepper flavors completely overwhelmed the cashew flavor.  Finally a hint of cashew came through. When  other family members tried these their reactions were similar - too much seasoning and too little cashew.<br /><br />Those who are fans of cashews will  probably be disappointed that there is so little cashew flavor but those who like salt and especially those who like pepper will be pleased.  It just seems to me that there is no need to use cashews in this product, peanuts would do just fine since the salt and pepper flavors completely dominate this product.\n",
            "Decoded Review: [CLS] when i first opened the canister the smell of pepper was burst forth. at the first taste, first the salt and then the pepper flavors completely overwhelmed the cashew flavor. finally a hint of cashew came through. when other family members tried these their reactions were similar - too much seasoning and too little cashew. < br / > < br / > those who are fans of cashews will probably be disappointed that there is so little cashew flavor but those who like salt and especially those who like pepper will be pleased. it just seems to me that there is no need to use cashews in this product [SEP]\n"
          ]
        }
      ]
    },
    {
      "cell_type": "markdown",
      "source": [
        "# Save tokenized reviews and decoded reviews into separate files"
      ],
      "metadata": {
        "id": "q5wIhuGLu9mJ"
      }
    },
    {
      "cell_type": "code",
      "source": [
        "# Save the tokenized reviews tensor to a file\n",
        "torch.save(input_ids, 'tokenized_reviews.pt')\n",
        "\n",
        "# Open a text file for writing\n",
        "with open('decoded_reviews.txt', 'w') as f:\n",
        "    # Iterate through the tokenized reviews, decode them, and write each decoded review to a new line in the file\n",
        "    for review in input_ids:\n",
        "        decoded_review = tokenizer.decode(review)\n",
        "        f.write(decoded_review)\n",
        "        f.write('\\n')"
      ],
      "metadata": {
        "id": "gc331qRAvETb"
      },
      "execution_count": null,
      "outputs": []
    },
    {
      "cell_type": "markdown",
      "source": [
        "# Conduct train-test split for model"
      ],
      "metadata": {
        "id": "NNxeangXvKgt"
      }
    },
    {
      "cell_type": "code",
      "source": [
        "# Create labels tensor\n",
        "labels = torch.tensor(df['Sentiment'].values)\n",
        "\n",
        "# Split data into training and testing sets\n",
        "train_inputs, test_inputs, train_labels, test_labels = train_test_split(input_ids, labels, random_state=42,\n",
        "                                                                        test_size=0.1)"
      ],
      "metadata": {
        "id": "hReTEw5ovP0Q"
      },
      "execution_count": null,
      "outputs": []
    },
    {
      "cell_type": "markdown",
      "source": [
        "# Further prepare for training the model\n"
      ],
      "metadata": {
        "id": "KfFh4cBuvQ9a"
      }
    },
    {
      "cell_type": "code",
      "source": [
        "# Create DataLoaders for training and testing sets\n",
        "batch_size = 16\n",
        "train_data = TensorDataset(train_inputs, train_labels)\n",
        "train_sampler = RandomSampler(train_data)\n",
        "train_dataloader = DataLoader(train_data, sampler=train_sampler, batch_size=batch_size)\n",
        "\n",
        "test_data = TensorDataset(test_inputs, test_labels)\n",
        "test_sampler = SequentialSampler(test_data)\n",
        "test_dataloader = DataLoader(test_data, sampler=test_sampler, batch_size=batch_size)"
      ],
      "metadata": {
        "id": "two73R68vVFz"
      },
      "execution_count": null,
      "outputs": []
    },
    {
      "cell_type": "markdown",
      "source": [
        "# Load the BERT model for sequence classification"
      ],
      "metadata": {
        "id": "6EBqM--nvgy2"
      }
    },
    {
      "cell_type": "code",
      "source": [
        "# If using without a pre-trained model, then uncomment this\n",
        "# model = BertForSequenceClassification.from_pretrained('bert-base-uncased', num_labels=3)"
      ],
      "metadata": {
        "id": "IMnlhL6Rvd4i"
      },
      "execution_count": null,
      "outputs": []
    },
    {
      "cell_type": "code",
      "source": [
        "# Load model with pre-trained model\n",
        "# If using without a trained-model, then comment this out\n",
        "model = BertForSequenceClassification.from_pretrained('trained_model')"
      ],
      "metadata": {
        "id": "fdpnFFUpvx3y"
      },
      "execution_count": null,
      "outputs": []
    },
    {
      "cell_type": "code",
      "source": [
        "# Tell model to use CUDA cores if available otherwise use CPU for processing\n",
        "model = model.to('cuda' if torch.cuda.is_available() else 'cpu')"
      ],
      "metadata": {
        "id": "AFnrw10JwMn1"
      },
      "execution_count": null,
      "outputs": []
    },
    {
      "cell_type": "markdown",
      "source": [
        "# Set up the optimizer and the learning rate scheduler\n",
        "\n",
        "\n",
        "These two lines create an optimizer with a fixed learning rate and a scheduler that adjusts the learning rate based on the validation loss during training. The purpose of the optimizer is to minimize the loss function (cross-entropy in this case) by adjusting the parameters of the model, and the purpose of the scheduler is to improve the convergence of the optimization algorithm and prevent overfitting.\n"
      ],
      "metadata": {
        "id": "CGhuq8ZUvsiw"
      }
    },
    {
      "cell_type": "code",
      "source": [
        "# Set up the optimizer and the learning rate scheduler\n",
        "optimizer = Adam(model.parameters(), lr=2e-5)\n",
        "scheduler = torch.optim.lr_scheduler.ReduceLROnPlateau(optimizer, patience=1, factor=0.5, verbose=True)"
      ],
      "metadata": {
        "id": "H5EtGI4YvrOs"
      },
      "execution_count": null,
      "outputs": []
    },
    {
      "cell_type": "markdown",
      "source": [
        "# Set up the training loop for the model\n",
        "- Commented out since we're using pre-trained model"
      ],
      "metadata": {
        "id": "15y928O_wntO"
      }
    },
    {
      "cell_type": "code",
      "source": [
        "# Set up the training loop\n",
        "# num_epochs = 5\n",
        "# training_losses = []\n",
        "# testing_losses = []\n",
        "\n",
        "# Train the model for num_epochs epochs\n",
        "for epoch in range(num_epochs):\n",
        "    print(f\"Epoch {epoch + 1}/{num_epochs}\")\n",
        "\n",
        "    # Set the model to training mode\n",
        "    model.train()\n",
        "    train_loss = 0\n",
        "    \n",
        "    # Iterate over the training data in batches\n",
        "    for batch in train_dataloader:\n",
        "        # Move the batch to the device (CPU or GPU)\n",
        "        batch = tuple(t.to('cuda' if torch.cuda.is_available() else 'cpu') for t in batch)\n",
        "        inputs, labels = batch\n",
        "        \n",
        "        # Zero the gradients\n",
        "        optimizer.zero_grad()\n",
        "        \n",
        "        # Forward pass through the model\n",
        "        outputs = model(inputs, labels=labels)\n",
        "        loss = outputs.loss\n",
        "        \n",
        "        # Backward pass and optimization\n",
        "        loss.backward()\n",
        "        optimizer.step()\n",
        "        \n",
        "        # Accumulate the training loss\n",
        "        train_loss += loss.item()\n",
        "\n",
        "    # Calculate the average training loss for the epoch\n",
        "    avg_train_loss = train_loss / len(train_dataloader)\n",
        "    \n",
        "    # Append the training loss to the list of losses\n",
        "    training_losses.append(avg_train_loss)\n",
        "    \n",
        "    # Print the average training loss\n",
        "    print(f\"Training loss: {avg_train_loss}\")\n",
        "\n",
        "    # Set the model to evaluation mode\n",
        "    model.eval()\n",
        "    test_loss = 0\n",
        "    \n",
        "    # Iterate over the testing data in batches\n",
        "    for batch in test_dataloader:\n",
        "        # Move the batch to the device (CPU or GPU)\n",
        "        batch = tuple(t.to('cuda' if torch.cuda.is_available() else 'cpu') for t in batch)\n",
        "        inputs, labels = batch\n",
        "        \n",
        "        # Disable gradient calculations\n",
        "        with torch.no_grad():\n",
        "            # Forward pass through the model\n",
        "            outputs = model(inputs, labels=labels)\n",
        "            loss = outputs.loss\n",
        "        \n",
        "        # Accumulate the testing loss\n",
        "        test_loss += loss.item()\n",
        "\n",
        "    # Calculate the average testing loss for the epoch\n",
        "    avg_test_loss = test_loss / len(test_dataloader)\n",
        "    \n",
        "    # Append the testing loss to the list of losses\n",
        "    testing_losses.append(avg_test_loss)\n",
        "    \n",
        "    # Print the average testing loss\n",
        "    print(f\"Testing loss: {avg_test_loss}\")\n",
        "\n",
        "    # Update the learning rate using the scheduler\n",
        "    scheduler.step(avg_test_loss)\n"
      ],
      "metadata": {
        "id": "V_a2vLHTwuUq"
      },
      "execution_count": null,
      "outputs": []
    },
    {
      "cell_type": "markdown",
      "source": [
        "# Save model, training and test loss into separate files\n",
        "- Commented out since we're using the pre-trained model"
      ],
      "metadata": {
        "id": "dveNOCl3w0_k"
      }
    },
    {
      "cell_type": "code",
      "source": [
        "# # Save the trained model\n",
        "# model.save_pretrained('trained_model')\n",
        "\n",
        "# Save the training and testing loss values\n",
        "# with open(\"loss_values.json\", \"w\") as f:\n",
        "#     json.dump({\"train_loss\": training_losses, \"test_loss\": testing_losses}, f)"
      ],
      "metadata": {
        "id": "eUM5sgmVwylh"
      },
      "execution_count": null,
      "outputs": []
    },
    {
      "cell_type": "markdown",
      "source": [
        "# Load saved loss values for visualization"
      ],
      "metadata": {
        "id": "A4BIEgIQxWUZ"
      }
    },
    {
      "cell_type": "code",
      "source": [
        "# Load the saved loss values\n",
        "with open(\"loss_values.json\", \"r\") as f:\n",
        "    loss_data = json.load(f)\n",
        "\n",
        "training_losses = loss_data[\"train_loss\"]\n",
        "testing_losses = loss_data[\"test_loss\"]"
      ],
      "metadata": {
        "id": "IIxNQimYxG3Y"
      },
      "execution_count": null,
      "outputs": []
    },
    {
      "cell_type": "markdown",
      "source": [
        "# Visualize training loss and testing loss"
      ],
      "metadata": {
        "id": "YP-XD9g1xa3s"
      }
    },
    {
      "cell_type": "code",
      "source": [
        "# Plot training and testing losses\n",
        "plt.plot(training_losses, label=\"Training Loss\")\n",
        "plt.plot(testing_losses, label=\"Testing Loss\")\n",
        "plt.xlabel(\"Epoch\")\n",
        "plt.ylabel(\"Loss\")\n",
        "plt.legend()\n",
        "plt.show()"
      ],
      "metadata": {
        "colab": {
          "base_uri": "https://localhost:8080/",
          "height": 449
        },
        "id": "Rzx1xruMxC-p",
        "outputId": "6c0c5947-164b-4813-8fe7-da0997285e67"
      },
      "execution_count": null,
      "outputs": [
        {
          "output_type": "display_data",
          "data": {
            "text/plain": [
              "<Figure size 640x480 with 1 Axes>"
            ],
            "image/png": "[encoded data removed]"
          },
          "metadata": {}
        }
      ]
    },
    {
      "cell_type": "markdown",
      "source": [
        "# Conduct predictions on a test set for further evaluation"
      ],
      "metadata": {
        "id": "MLWZAkS7xjAJ"
      }
    },
    {
      "cell_type": "code",
      "source": [
        "# Make predictions on the test set\n",
        "# Set the model to evaluation mode\n",
        "model.eval()\n",
        "\n",
        "# Create lists to store the predicted labels and true labels\n",
        "predictions = []\n",
        "true_labels = []\n",
        "\n",
        "# Iterate over the testing data in batches\n",
        "for batch in test_dataloader:\n",
        "    # Move the batch to the device (CPU or GPU)\n",
        "    batch = tuple(t.to('cuda' if torch.cuda.is_available() else 'cpu') for t in batch)\n",
        "    inputs, labels = batch\n",
        "    \n",
        "    # Disable gradient calculations\n",
        "    with torch.no_grad():\n",
        "        # Forward pass through the model\n",
        "        outputs = model(inputs)\n",
        "        logits = outputs.logits\n",
        "\n",
        "    # Detach the logits from the computation graph and move to the CPU\n",
        "    logits = logits.detach().cpu().numpy()\n",
        "    # Move the label ids to the CPU and convert to a numpy array\n",
        "    label_ids = labels.to('cpu').numpy()\n",
        "\n",
        "    # Get the predicted labels by taking the argmax of the logits\n",
        "    predictions.extend(np.argmax(logits, axis=1))\n",
        "    # Add the true labels to the list of true labels\n",
        "    true_labels.extend(label_ids)\n"
      ],
      "metadata": {
        "id": "Tcm0kpjnxfXm"
      },
      "execution_count": null,
      "outputs": []
    },
    {
      "cell_type": "markdown",
      "source": [
        "# Print out the classification report"
      ],
      "metadata": {
        "id": "Er-XMIgWxqxl"
      }
    },
    {
      "cell_type": "code",
      "source": [
        "# Compute the classification report and print it\n",
        "print(\"\\nClassification Report:\")\n",
        "print(classification_report(true_labels, predictions))"
      ],
      "metadata": {
        "colab": {
          "base_uri": "https://localhost:8080/"
        },
        "id": "BXi1uJkXxoXB",
        "outputId": "d8eb732d-7fc3-4ad4-dad0-08482e28feef"
      },
      "execution_count": null,
      "outputs": [
        {
          "output_type": "stream",
          "name": "stdout",
          "text": [
            "\n",
            "Classification Report:\n",
            "              precision    recall  f1-score   support\n",
            "\n",
            "           0       0.90      0.90      0.90      4021\n",
            "           1       0.77      0.72      0.74      2150\n",
            "           2       0.97      0.98      0.98     22250\n",
            "\n",
            "    accuracy                           0.95     28421\n",
            "   macro avg       0.88      0.86      0.87     28421\n",
            "weighted avg       0.95      0.95      0.95     28421\n",
            "\n"
          ]
        }
      ]
    },
    {
      "cell_type": "markdown",
      "source": [
        "# Visualize the confusion matrix"
      ],
      "metadata": {
        "id": "9pg59MVZxxfd"
      }
    },
    {
      "cell_type": "code",
      "source": [
        "# Compute the confusion matrix and plot it as a heatmap\n",
        "confusion_mtx = confusion_matrix(true_labels, predictions)\n",
        "plt.figure(figsize=(6, 6))\n",
        "sns.heatmap(confusion_mtx, annot=True, fmt='d', cmap='Blues', cbar=True,\n",
        "            xticklabels=['Negative', 'Neutral', 'Positive'], yticklabels=['Negative', 'Neutral', 'Positive'])\n",
        "plt.xlabel(\"Predicted\")\n",
        "plt.ylabel(\"Actual\")\n",
        "plt.title(\"Confusion Matrix\")\n",
        "plt.show()"
      ],
      "metadata": {
        "colab": {
          "base_uri": "https://localhost:8080/",
          "height": 564
        },
        "id": "10UfnH0Zxvco",
        "outputId": "ad3ec8f8-7f88-4684-feca-fee8ecdd47ae"
      },
      "execution_count": null,
      "outputs": [
        {
          "output_type": "display_data",
          "data": {
            "text/plain": [
              "<Figure size 600x600 with 2 Axes>"
            ],
            "image/png": "[encoded data removed]"
          },
          "metadata": {}
        }
      ]
    },
    {
      "cell_type": "markdown",
      "source": [
        "# Print out the accuracy score"
      ],
      "metadata": {
        "id": "MvIZY_4Jx2Hh"
      }
    },
    {
      "cell_type": "code",
      "source": [
        "# Calculate and print the accuracy score\n",
        "accuracy = np.mean(np.array(true_labels) == np.array(predictions))\n",
        "print(f\"Accuracy: {accuracy:.4f}\")"
      ],
      "metadata": {
        "colab": {
          "base_uri": "https://localhost:8080/"
        },
        "id": "8O_4waSjx48O",
        "outputId": "bd1b46b8-02ce-4102-e47c-adb39ff30def"
      },
      "execution_count": null,
      "outputs": [
        {
          "output_type": "stream",
          "name": "stdout",
          "text": [
            "Accuracy: 0.9494\n"
          ]
        }
      ]
    },
    {
      "cell_type": "markdown",
      "source": [
        "# Prepare sample input for testing evaluation"
      ],
      "metadata": {
        "id": "q9BS2Arkx6qS"
      }
    },
    {
      "cell_type": "code",
      "source": [
        "# Define the sample messages\n",
        "sample_messages = [\n",
        "    \"I hate this product! I gave it to all of my enemies!\",\n",
        "    \"I love this product! I gave it to all of my friends!\",\n",
        "    \"Meh. That's all I can say\",\n",
        "    \"I could not pay my friends enough to take it off my hands. I haven't heard from them since. My social life is in shambles\",\n",
        "    \"This product is amazing! It exceeded my expectations and has become an essential part of my daily routine.\",\n",
        "    \"This is hands down the best purchase I've made in a long time. The product is incredibly easy to use.\",\n",
        "    \"The product is decent, but I don't think it's anything special. It does what it's supposed to do, but it's not as good as some of the other options out there.\",\n",
        "    \"The item arrived on time and was as described, but it didn't really live up to the hype. It's just okay - not terrible, but not great either.\",\n",
        "    \"I had high hopes for this product, but it turned out to be a total waste of money. It's flimsy, doesn't perform well\",\n",
        "    \"I'm extremely disappointed with this product. It broke after just a few uses, and the quality is nowhere near what I expected\"\n",
        "]"
      ],
      "metadata": {
        "id": "VjIV_w4mx9g6"
      },
      "execution_count": null,
      "outputs": []
    },
    {
      "cell_type": "markdown",
      "source": [
        "# Tokenize the sample input for evaluation\n"
      ],
      "metadata": {
        "id": "G3TluCjnx_sD"
      }
    },
    {
      "cell_type": "code",
      "source": [
        "# Tokenize the sample messages\n",
        "sample_tokenized = [\n",
        "    tokenizer.encode(message, add_special_tokens=True, max_length=max_length, padding='max_length', truncation=True)\n",
        "    for message in sample_messages\n",
        "]\n",
        "\n",
        "# Convert the tokenized messages to PyTorch tensors\n",
        "sample_input_ids = torch.tensor(sample_tokenized)\n",
        "\n",
        "# Create a DataLoader for the sample messages\n",
        "sample_data = TensorDataset(sample_input_ids)\n",
        "sample_dataloader = DataLoader(sample_data, batch_size=batch_size)"
      ],
      "metadata": {
        "id": "K6CR2ld8yD9S"
      },
      "execution_count": null,
      "outputs": []
    },
    {
      "cell_type": "markdown",
      "source": [
        "# Finally evaluate the sample messages through the model"
      ],
      "metadata": {
        "id": "JCZGY0MWyGab"
      }
    },
    {
      "cell_type": "code",
      "source": [
        "# Make predictions for the sample messages\n",
        "# Set the model to evaluation mode\n",
        "model.eval()\n",
        "\n",
        "# Create a list to store the predicted labels for the sample data\n",
        "sample_predictions = []\n",
        "\n",
        "# Iterate over the sample data in batches\n",
        "for inputs in sample_dataloader:\n",
        "    # Move the input batch to the device (CPU or GPU)\n",
        "    inputs = inputs[0].to('cuda' if torch.cuda.is_available() else 'cpu')\n",
        "    \n",
        "    # Disable gradient calculations\n",
        "    with torch.no_grad():\n",
        "        # Forward pass through the model\n",
        "        outputs = model(inputs)\n",
        "        logits = outputs.logits\n",
        "\n",
        "    # Calculate the probabilities of each class using the softmax function\n",
        "    probs = torch.softmax(logits, dim=1)\n",
        "    \n",
        "    # Get the confidence scores and predicted labels by taking the argmax of the probabilities\n",
        "    confidences, predicted_labels = torch.max(probs, dim=1)\n",
        "    \n",
        "    # Detach the confidence scores and predicted labels from the computation graph and move to the CPU as numpy arrays\n",
        "    confidences = confidences.detach().cpu().numpy()\n",
        "    predicted_labels = predicted_labels.detach().cpu().numpy()\n",
        "    \n",
        "    # Add the predicted labels to the list of sample predictions\n",
        "    sample_predictions.extend(predicted_labels)\n"
      ],
      "metadata": {
        "id": "AxDeDndAyKJg"
      },
      "execution_count": null,
      "outputs": []
    },
    {
      "cell_type": "markdown",
      "source": [
        "# Print out sample messages with their sentiment predictions and confidence score"
      ],
      "metadata": {
        "id": "pVktO5yzyL3R"
      }
    },
    {
      "cell_type": "code",
      "source": [
        "# Print the sample messages and their predictions and confidences\n",
        "sentiment_mapping = {0: \"Negative\", 1: \"Neutral\", 2: \"Positive\"}\n",
        "for message, prediction, confidence in zip(sample_messages, sample_predictions, confidences):\n",
        "    print(f\"Message: {message}\\nPrediction: {sentiment_mapping[prediction]}, Confidence: {confidence:.4f}\\n\")"
      ],
      "metadata": {
        "colab": {
          "base_uri": "https://localhost:8080/"
        },
        "id": "tUw3G2d1yRbO",
        "outputId": "3e60e2ed-9209-4ad3-d633-50e09269a445"
      },
      "execution_count": null,
      "outputs": [
        {
          "output_type": "stream",
          "name": "stdout",
          "text": [
            "Message: I hate this product! I gave it to all of my enemies!\n",
            "Prediction: Negative, Confidence: 0.9538\n",
            "\n",
            "Message: I love this product! I gave it to all of my friends!\n",
            "Prediction: Positive, Confidence: 0.9997\n",
            "\n",
            "Message: Meh. That's all I can say\n",
            "Prediction: Neutral, Confidence: 0.5535\n",
            "\n",
            "Message: I could not pay my friends enough to take it off my hands. I haven't heard from them since. My social life is in shambles\n",
            "Prediction: Positive, Confidence: 0.9869\n",
            "\n",
            "Message: This product is amazing! It exceeded my expectations and has become an essential part of my daily routine.\n",
            "Prediction: Positive, Confidence: 0.9998\n",
            "\n",
            "Message: This is hands down the best purchase I've made in a long time. The product is incredibly easy to use.\n",
            "Prediction: Positive, Confidence: 0.9998\n",
            "\n",
            "Message: The product is decent, but I don't think it's anything special. It does what it's supposed to do, but it's not as good as some of the other options out there.\n",
            "Prediction: Neutral, Confidence: 0.9976\n",
            "\n",
            "Message: The item arrived on time and was as described, but it didn't really live up to the hype. It's just okay - not terrible, but not great either.\n",
            "Prediction: Neutral, Confidence: 0.9600\n",
            "\n",
            "Message: I had high hopes for this product, but it turned out to be a total waste of money. It's flimsy, doesn't perform well\n",
            "Prediction: Negative, Confidence: 0.9994\n",
            "\n",
            "Message: I'm extremely disappointed with this product. It broke after just a few uses, and the quality is nowhere near what I expected\n",
            "Prediction: Negative, Confidence: 0.9990\n",
            "\n"
          ]
        }
      ]
    }
  ]
}
